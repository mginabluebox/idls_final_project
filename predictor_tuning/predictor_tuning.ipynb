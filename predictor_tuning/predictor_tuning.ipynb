{
 "cells": [
  {
   "cell_type": "code",
   "execution_count": 1,
   "metadata": {},
   "outputs": [],
   "source": [
    "from sklearn.linear_model import Ridge\n",
    "from sklearn.ensemble import RandomForestRegressor, GradientBoostingRegressor\n",
    "from sklearn.metrics import mean_squared_error\n",
    "from sklearn.pipeline import Pipeline\n",
    "from sklearn.model_selection import GridSearchCV\n",
    "from sklearn.metrics import make_scorer\n",
    "from torch_geometric.nn import Node2Vec\n",
    "\n",
    "import os\n",
    "import json\n",
    "import csv \n",
    "import time\n",
    "\n",
    "import torch\n",
    "import pandas as pd\n",
    "from torch_geometric.data import Data, Dataset\n",
    "from torch_geometric.loader import DataLoader\n",
    "import torch_geometric.transforms as T"
   ]
  },
  {
   "cell_type": "code",
   "execution_count": 2,
   "metadata": {},
   "outputs": [
    {
     "data": {
      "text/plain": [
       "'1.10.2'"
      ]
     },
     "execution_count": 2,
     "metadata": {},
     "output_type": "execute_result"
    }
   ],
   "source": [
    "torch.__version__"
   ]
  },
  {
   "cell_type": "code",
   "execution_count": 3,
   "metadata": {},
   "outputs": [],
   "source": [
    "device = 'cuda' if torch.cuda.is_available() else 'cpu'"
   ]
  },
  {
   "cell_type": "code",
   "execution_count": 4,
   "metadata": {},
   "outputs": [
    {
     "data": {
      "text/plain": [
       "'cuda'"
      ]
     },
     "execution_count": 4,
     "metadata": {},
     "output_type": "execute_result"
    }
   ],
   "source": [
    "device"
   ]
  },
  {
   "cell_type": "code",
   "execution_count": null,
   "metadata": {},
   "outputs": [],
   "source": [
    "DATA_PATH = '../data/'"
   ]
  },
  {
   "cell_type": "markdown",
   "metadata": {},
   "source": [
    "Data and Best Performing Model Loading"
   ]
  },
  {
   "cell_type": "code",
   "execution_count": 8,
   "metadata": {},
   "outputs": [],
   "source": [
    "# best parameters after tuning\n",
    "WALK = 50\n",
    "P = 1\n",
    "Q = 1"
   ]
  },
  {
   "cell_type": "code",
   "execution_count": 5,
   "metadata": {},
   "outputs": [],
   "source": [
    "# load index dictionary\n",
    "with open(f'{DATA_PATH}reddit_index.json') as f:\n",
    "    reddit_dict = json.load(f)"
   ]
  },
  {
   "cell_type": "code",
   "execution_count": 6,
   "metadata": {},
   "outputs": [],
   "source": [
    "# read reddit s2d as a Data object in pytorch geometric\n",
    "df = pd.read_csv(f'{DATA_PATH}reddit_subreddit_to_domain__gt-01-urls.csv', header=None)\n",
    "source_nodes = df.iloc[:,0].apply(lambda x: reddit_dict[x]).values.tolist()\n",
    "target_nodes = df.iloc[:,1].apply(lambda x: reddit_dict[x]).values.tolist()\n",
    "num_nodes = len(set(source_nodes).union(set(target_nodes)))\n",
    "weight = df.iloc[:,2].values.tolist()\n",
    "edge_index = torch.tensor([source_nodes, target_nodes])\n",
    "edge_attr = torch.tensor(weight)[:,None]\n",
    "data = Data(edge_index=edge_index, edge_attr=edge_attr)\n",
    "\n",
    "data.num_nodes = num_nodes\n",
    "transform = T.ToUndirected()\n",
    "data = transform(data)"
   ]
  },
  {
   "cell_type": "code",
   "execution_count": 7,
   "metadata": {},
   "outputs": [],
   "source": [
    "# read domain ideology for evaluation\n",
    "domain_ideology = pd.read_csv(f'{DATA_PATH}robertson_et_al.csv')\n",
    "domain_ideology = domain_ideology[['domain', 'score']].copy()\n",
    "domain_ideology['id'] = domain_ideology['domain'].apply(lambda x: reddit_dict[x] if x in reddit_dict else None)\n",
    "domain_ideology = domain_ideology[domain_ideology['id'].notna()].reset_index(drop=True)\n",
    "domain_ideology['id'] = domain_ideology['id'].astype('int64')\n",
    "\n",
    "train = domain_ideology.sample(frac=0.8,random_state=42)\n",
    "test = domain_ideology[~domain_ideology.index.isin(train.index)]\n",
    "train_sub = train.sample(frac=0.8, random_state=24)\n",
    "val = train[~train.index.isin(train_sub.index)]\n",
    "\n",
    "train_x, train_y = train_sub['id'].tolist(), train_sub['score'].tolist()\n",
    "val_x, val_y = val['id'].tolist(), val['score'].tolist()"
   ]
  },
  {
   "cell_type": "code",
   "execution_count": 13,
   "metadata": {},
   "outputs": [
    {
     "data": {
      "text/plain": [
       "<All keys matched successfully>"
      ]
     },
     "execution_count": 13,
     "metadata": {},
     "output_type": "execute_result"
    }
   ],
   "source": [
    "# model specification\n",
    "MODEL_PATH = 'results/jupyter_v100_1.pth'\n",
    "model = torch.nn.DataParallel(Node2Vec(data.edge_index, embedding_dim=128, \n",
    "                 walk_length=WALK, context_size=10, walks_per_node=10, \n",
    "                 num_negative_samples=1, p=P, q=P, sparse=True))\n",
    "model.load_state_dict(torch.load(MODEL_PATH))"
   ]
  },
  {
   "cell_type": "code",
   "execution_count": 14,
   "metadata": {},
   "outputs": [],
   "source": [
    "# remove DataParallel wrapper\n",
    "model = model.module"
   ]
  },
  {
   "cell_type": "code",
   "execution_count": 15,
   "metadata": {},
   "outputs": [],
   "source": [
    "# embed training data\n",
    "model.eval()\n",
    "z = model()\n",
    "\n",
    "train_X = z[train_x].detach().cpu().numpy()"
   ]
  },
  {
   "cell_type": "markdown",
   "metadata": {},
   "source": [
    "Classifier Loading"
   ]
  },
  {
   "cell_type": "code",
   "execution_count": 16,
   "metadata": {},
   "outputs": [],
   "source": [
    "# specify predictors and setting random states\n",
    "clf1 = Ridge()\n",
    "clf2 = RandomForestRegressor(random_state=42)\n",
    "clf3 = GradientBoostingRegressor(random_state=42)"
   ]
  },
  {
   "cell_type": "code",
   "execution_count": 17,
   "metadata": {},
   "outputs": [],
   "source": [
    "# specify parameters\n",
    "param1 = {}\n",
    "param1['clf__alpha'] = [0.001, 0.01, 0.1, 1]\n",
    "param1['clf'] = [clf1]\n",
    "\n",
    "param2 = {}\n",
    "param2['clf__n_estimators'] = [100, 200, 500]\n",
    "param2['clf'] = [clf2]\n",
    "\n",
    "param3 = {}\n",
    "param3['clf__learning_rate'] = [0.001, 0.01, 0.1, 1]\n",
    "param3['clf__n_estimators'] = [50, 100, 200]\n",
    "param3['clf'] = [clf3]"
   ]
  },
  {
   "cell_type": "code",
   "execution_count": 18,
   "metadata": {
    "scrolled": true
   },
   "outputs": [
    {
     "name": "stdout",
     "output_type": "stream",
     "text": [
      "Fitting 3 folds for each of 19 candidates, totalling 57 fits\n",
      "[CV 1/3] END ....clf=Ridge(), clf__alpha=0.001;, score=-0.133 total time=   0.5s\n",
      "[CV 2/3] END ....clf=Ridge(), clf__alpha=0.001;, score=-0.125 total time=   0.0s\n",
      "[CV 3/3] END ....clf=Ridge(), clf__alpha=0.001;, score=-0.130 total time=   0.0s\n",
      "[CV 1/3] END .....clf=Ridge(), clf__alpha=0.01;, score=-0.133 total time=   0.0s\n",
      "[CV 2/3] END .....clf=Ridge(), clf__alpha=0.01;, score=-0.125 total time=   0.0s\n",
      "[CV 3/3] END .....clf=Ridge(), clf__alpha=0.01;, score=-0.130 total time=   0.0s\n",
      "[CV 1/3] END ......clf=Ridge(), clf__alpha=0.1;, score=-0.133 total time=   0.0s\n",
      "[CV 2/3] END ......clf=Ridge(), clf__alpha=0.1;, score=-0.125 total time=   0.0s\n",
      "[CV 3/3] END ......clf=Ridge(), clf__alpha=0.1;, score=-0.130 total time=   0.0s\n",
      "[CV 1/3] END ........clf=Ridge(), clf__alpha=1;, score=-0.133 total time=   0.0s\n",
      "[CV 2/3] END ........clf=Ridge(), clf__alpha=1;, score=-0.125 total time=   0.0s\n",
      "[CV 3/3] END ........clf=Ridge(), clf__alpha=1;, score=-0.130 total time=   0.0s\n",
      "[CV 1/3] END clf=RandomForestRegressor(random_state=42), clf__n_estimators=100;, score=-0.135 total time=  37.6s\n",
      "[CV 2/3] END clf=RandomForestRegressor(random_state=42), clf__n_estimators=100;, score=-0.126 total time=  37.4s\n",
      "[CV 3/3] END clf=RandomForestRegressor(random_state=42), clf__n_estimators=100;, score=-0.132 total time=  37.7s\n",
      "[CV 1/3] END clf=RandomForestRegressor(random_state=42), clf__n_estimators=200;, score=-0.134 total time= 1.2min\n",
      "[CV 2/3] END clf=RandomForestRegressor(random_state=42), clf__n_estimators=200;, score=-0.126 total time= 1.2min\n",
      "[CV 3/3] END clf=RandomForestRegressor(random_state=42), clf__n_estimators=200;, score=-0.131 total time= 1.3min\n",
      "[CV 1/3] END clf=RandomForestRegressor(random_state=42), clf__n_estimators=500;, score=-0.133 total time= 3.1min\n",
      "[CV 2/3] END clf=RandomForestRegressor(random_state=42), clf__n_estimators=500;, score=-0.126 total time= 3.1min\n",
      "[CV 3/3] END clf=RandomForestRegressor(random_state=42), clf__n_estimators=500;, score=-0.131 total time= 3.1min\n",
      "[CV 1/3] END clf=GradientBoostingRegressor(random_state=42), clf__learning_rate=0.001, clf__n_estimators=50;, score=-0.190 total time=   8.2s\n",
      "[CV 2/3] END clf=GradientBoostingRegressor(random_state=42), clf__learning_rate=0.001, clf__n_estimators=50;, score=-0.184 total time=   8.2s\n",
      "[CV 3/3] END clf=GradientBoostingRegressor(random_state=42), clf__learning_rate=0.001, clf__n_estimators=50;, score=-0.183 total time=   8.3s\n",
      "[CV 1/3] END clf=GradientBoostingRegressor(random_state=42), clf__learning_rate=0.001, clf__n_estimators=100;, score=-0.187 total time=  16.4s\n",
      "[CV 2/3] END clf=GradientBoostingRegressor(random_state=42), clf__learning_rate=0.001, clf__n_estimators=100;, score=-0.181 total time=  16.5s\n",
      "[CV 3/3] END clf=GradientBoostingRegressor(random_state=42), clf__learning_rate=0.001, clf__n_estimators=100;, score=-0.181 total time=  16.5s\n",
      "[CV 1/3] END clf=GradientBoostingRegressor(random_state=42), clf__learning_rate=0.001, clf__n_estimators=200;, score=-0.181 total time=  32.9s\n",
      "[CV 2/3] END clf=GradientBoostingRegressor(random_state=42), clf__learning_rate=0.001, clf__n_estimators=200;, score=-0.176 total time=  32.9s\n",
      "[CV 3/3] END clf=GradientBoostingRegressor(random_state=42), clf__learning_rate=0.001, clf__n_estimators=200;, score=-0.176 total time=  33.1s\n",
      "[CV 1/3] END clf=GradientBoostingRegressor(random_state=42), clf__learning_rate=0.01, clf__n_estimators=50;, score=-0.169 total time=   8.2s\n",
      "[CV 2/3] END clf=GradientBoostingRegressor(random_state=42), clf__learning_rate=0.01, clf__n_estimators=50;, score=-0.164 total time=   8.2s\n",
      "[CV 3/3] END clf=GradientBoostingRegressor(random_state=42), clf__learning_rate=0.01, clf__n_estimators=50;, score=-0.165 total time=   8.2s\n",
      "[CV 1/3] END clf=GradientBoostingRegressor(random_state=42), clf__learning_rate=0.01, clf__n_estimators=100;, score=-0.157 total time=  16.4s\n",
      "[CV 2/3] END clf=GradientBoostingRegressor(random_state=42), clf__learning_rate=0.01, clf__n_estimators=100;, score=-0.151 total time=  16.4s\n",
      "[CV 3/3] END clf=GradientBoostingRegressor(random_state=42), clf__learning_rate=0.01, clf__n_estimators=100;, score=-0.153 total time=  16.4s\n",
      "[CV 1/3] END clf=GradientBoostingRegressor(random_state=42), clf__learning_rate=0.01, clf__n_estimators=200;, score=-0.143 total time=  32.7s\n",
      "[CV 2/3] END clf=GradientBoostingRegressor(random_state=42), clf__learning_rate=0.01, clf__n_estimators=200;, score=-0.138 total time=  32.8s\n",
      "[CV 3/3] END clf=GradientBoostingRegressor(random_state=42), clf__learning_rate=0.01, clf__n_estimators=200;, score=-0.141 total time=  32.7s\n",
      "[CV 1/3] END clf=GradientBoostingRegressor(random_state=42), clf__learning_rate=0.1, clf__n_estimators=50;, score=-0.131 total time=   8.2s\n",
      "[CV 2/3] END clf=GradientBoostingRegressor(random_state=42), clf__learning_rate=0.1, clf__n_estimators=50;, score=-0.127 total time=   8.2s\n",
      "[CV 3/3] END clf=GradientBoostingRegressor(random_state=42), clf__learning_rate=0.1, clf__n_estimators=50;, score=-0.130 total time=   8.2s\n",
      "[CV 1/3] END clf=GradientBoostingRegressor(random_state=42), clf__learning_rate=0.1, clf__n_estimators=100;, score=-0.128 total time=  16.6s\n",
      "[CV 2/3] END clf=GradientBoostingRegressor(random_state=42), clf__learning_rate=0.1, clf__n_estimators=100;, score=-0.125 total time=  16.6s\n",
      "[CV 3/3] END clf=GradientBoostingRegressor(random_state=42), clf__learning_rate=0.1, clf__n_estimators=100;, score=-0.127 total time=  16.6s\n",
      "[CV 1/3] END clf=GradientBoostingRegressor(random_state=42), clf__learning_rate=0.1, clf__n_estimators=200;, score=-0.129 total time=  33.5s\n",
      "[CV 2/3] END clf=GradientBoostingRegressor(random_state=42), clf__learning_rate=0.1, clf__n_estimators=200;, score=-0.126 total time=  33.5s\n",
      "[CV 3/3] END clf=GradientBoostingRegressor(random_state=42), clf__learning_rate=0.1, clf__n_estimators=200;, score=-0.127 total time=  33.5s\n",
      "[CV 1/3] END clf=GradientBoostingRegressor(random_state=42), clf__learning_rate=1, clf__n_estimators=50;, score=-0.189 total time=   8.4s\n",
      "[CV 2/3] END clf=GradientBoostingRegressor(random_state=42), clf__learning_rate=1, clf__n_estimators=50;, score=-0.186 total time=   8.4s\n",
      "[CV 3/3] END clf=GradientBoostingRegressor(random_state=42), clf__learning_rate=1, clf__n_estimators=50;, score=-0.183 total time=   8.4s\n",
      "[CV 1/3] END clf=GradientBoostingRegressor(random_state=42), clf__learning_rate=1, clf__n_estimators=100;, score=-0.214 total time=  16.8s\n",
      "[CV 2/3] END clf=GradientBoostingRegressor(random_state=42), clf__learning_rate=1, clf__n_estimators=100;, score=-0.214 total time=  16.8s\n",
      "[CV 3/3] END clf=GradientBoostingRegressor(random_state=42), clf__learning_rate=1, clf__n_estimators=100;, score=-0.210 total time=  16.8s\n",
      "[CV 1/3] END clf=GradientBoostingRegressor(random_state=42), clf__learning_rate=1, clf__n_estimators=200;, score=-0.236 total time=  33.6s\n",
      "[CV 2/3] END clf=GradientBoostingRegressor(random_state=42), clf__learning_rate=1, clf__n_estimators=200;, score=-0.240 total time=  33.6s\n",
      "[CV 3/3] END clf=GradientBoostingRegressor(random_state=42), clf__learning_rate=1, clf__n_estimators=200;, score=-0.232 total time=  33.6s\n"
     ]
    },
    {
     "data": {
      "text/plain": [
       "{'clf': GradientBoostingRegressor(random_state=42),\n",
       " 'clf__learning_rate': 0.1,\n",
       " 'clf__n_estimators': 100}"
      ]
     },
     "execution_count": 18,
     "metadata": {},
     "output_type": "execute_result"
    }
   ],
   "source": [
    "# specify pipeline\n",
    "pipeline = Pipeline([('clf', clf1)])\n",
    "params = [param1, param2, param3]\n",
    "\n",
    "# perform grid search\n",
    "gs = GridSearchCV(pipeline, params, cv=3, scoring='neg_mean_squared_error', verbose=3).fit(train_X, train_y)\n",
    "gs.best_params_"
   ]
  },
  {
   "cell_type": "code",
   "execution_count": 21,
   "metadata": {},
   "outputs": [
    {
     "data": {
      "text/plain": [
       "{'mean_fit_time': array([1.85256243e-01, 4.35439746e-03, 4.14419174e-03, 4.15094694e-03,\n",
       "        3.75195276e+01, 7.48417801e+01, 1.87183178e+02, 8.24913025e+00,\n",
       "        1.64839873e+01, 3.29581807e+01, 8.19788869e+00, 1.63651338e+01,\n",
       "        3.27300288e+01, 8.20304958e+00, 1.65780047e+01, 3.34732561e+01,\n",
       "        8.37802831e+00, 1.67594554e+01, 3.35824307e+01]),\n",
       " 'std_fit_time': array([2.55382811e-01, 1.92237570e-04, 8.66311768e-05, 1.40265297e-04,\n",
       "        1.42322220e-01, 9.05631892e-02, 3.35675957e-01, 2.79675177e-02,\n",
       "        4.26037867e-02, 8.52930279e-02, 1.06145289e-02, 3.65235653e-03,\n",
       "        3.41887919e-02, 8.65824729e-03, 3.19386879e-02, 3.33872816e-02,\n",
       "        4.24876155e-03, 1.56006827e-02, 1.45948614e-02]),\n",
       " 'mean_score_time': array([0.00105532, 0.00082548, 0.00082143, 0.00086347, 0.0706474 ,\n",
       "        0.13901114, 0.34678618, 0.00347996, 0.00588465, 0.01023769,\n",
       "        0.00380055, 0.00641163, 0.01150529, 0.00383854, 0.00594743,\n",
       "        0.00918651, 0.00328191, 0.00517225, 0.00863735]),\n",
       " 'std_score_time': array([2.30779196e-04, 7.82636198e-06, 1.51207428e-06, 6.14239352e-05,\n",
       "        5.09763467e-04, 6.24637597e-04, 1.01575699e-03, 1.47769263e-04,\n",
       "        9.68914645e-05, 8.99062521e-06, 1.49183788e-04, 1.77779633e-04,\n",
       "        2.43901572e-04, 1.45075697e-04, 1.33992137e-04, 8.10700301e-05,\n",
       "        1.49478161e-04, 1.30599421e-04, 3.09181089e-05]),\n",
       " 'param_clf': masked_array(data=[Ridge(), Ridge(), Ridge(), Ridge(),\n",
       "                    RandomForestRegressor(random_state=42),\n",
       "                    RandomForestRegressor(random_state=42),\n",
       "                    RandomForestRegressor(random_state=42),\n",
       "                    GradientBoostingRegressor(random_state=42),\n",
       "                    GradientBoostingRegressor(random_state=42),\n",
       "                    GradientBoostingRegressor(random_state=42),\n",
       "                    GradientBoostingRegressor(random_state=42),\n",
       "                    GradientBoostingRegressor(random_state=42),\n",
       "                    GradientBoostingRegressor(random_state=42),\n",
       "                    GradientBoostingRegressor(random_state=42),\n",
       "                    GradientBoostingRegressor(random_state=42),\n",
       "                    GradientBoostingRegressor(random_state=42),\n",
       "                    GradientBoostingRegressor(random_state=42),\n",
       "                    GradientBoostingRegressor(random_state=42),\n",
       "                    GradientBoostingRegressor(random_state=42)],\n",
       "              mask=[False, False, False, False, False, False, False, False,\n",
       "                    False, False, False, False, False, False, False, False,\n",
       "                    False, False, False],\n",
       "        fill_value='?',\n",
       "             dtype=object),\n",
       " 'param_clf__alpha': masked_array(data=[0.001, 0.01, 0.1, 1, --, --, --, --, --, --, --, --,\n",
       "                    --, --, --, --, --, --, --],\n",
       "              mask=[False, False, False, False,  True,  True,  True,  True,\n",
       "                     True,  True,  True,  True,  True,  True,  True,  True,\n",
       "                     True,  True,  True],\n",
       "        fill_value='?',\n",
       "             dtype=object),\n",
       " 'param_clf__n_estimators': masked_array(data=[--, --, --, --, 100, 200, 500, 50, 100, 200, 50, 100,\n",
       "                    200, 50, 100, 200, 50, 100, 200],\n",
       "              mask=[ True,  True,  True,  True, False, False, False, False,\n",
       "                    False, False, False, False, False, False, False, False,\n",
       "                    False, False, False],\n",
       "        fill_value='?',\n",
       "             dtype=object),\n",
       " 'param_clf__learning_rate': masked_array(data=[--, --, --, --, --, --, --, 0.001, 0.001, 0.001, 0.01,\n",
       "                    0.01, 0.01, 0.1, 0.1, 0.1, 1, 1, 1],\n",
       "              mask=[ True,  True,  True,  True,  True,  True,  True, False,\n",
       "                    False, False, False, False, False, False, False, False,\n",
       "                    False, False, False],\n",
       "        fill_value='?',\n",
       "             dtype=object),\n",
       " 'params': [{'clf': Ridge(), 'clf__alpha': 0.001},\n",
       "  {'clf': Ridge(), 'clf__alpha': 0.01},\n",
       "  {'clf': Ridge(), 'clf__alpha': 0.1},\n",
       "  {'clf': Ridge(), 'clf__alpha': 1},\n",
       "  {'clf': RandomForestRegressor(random_state=42), 'clf__n_estimators': 100},\n",
       "  {'clf': RandomForestRegressor(random_state=42), 'clf__n_estimators': 200},\n",
       "  {'clf': RandomForestRegressor(random_state=42), 'clf__n_estimators': 500},\n",
       "  {'clf': GradientBoostingRegressor(random_state=42),\n",
       "   'clf__learning_rate': 0.001,\n",
       "   'clf__n_estimators': 50},\n",
       "  {'clf': GradientBoostingRegressor(random_state=42),\n",
       "   'clf__learning_rate': 0.001,\n",
       "   'clf__n_estimators': 100},\n",
       "  {'clf': GradientBoostingRegressor(random_state=42),\n",
       "   'clf__learning_rate': 0.001,\n",
       "   'clf__n_estimators': 200},\n",
       "  {'clf': GradientBoostingRegressor(random_state=42),\n",
       "   'clf__learning_rate': 0.01,\n",
       "   'clf__n_estimators': 50},\n",
       "  {'clf': GradientBoostingRegressor(random_state=42),\n",
       "   'clf__learning_rate': 0.01,\n",
       "   'clf__n_estimators': 100},\n",
       "  {'clf': GradientBoostingRegressor(random_state=42),\n",
       "   'clf__learning_rate': 0.01,\n",
       "   'clf__n_estimators': 200},\n",
       "  {'clf': GradientBoostingRegressor(random_state=42),\n",
       "   'clf__learning_rate': 0.1,\n",
       "   'clf__n_estimators': 50},\n",
       "  {'clf': GradientBoostingRegressor(random_state=42),\n",
       "   'clf__learning_rate': 0.1,\n",
       "   'clf__n_estimators': 100},\n",
       "  {'clf': GradientBoostingRegressor(random_state=42),\n",
       "   'clf__learning_rate': 0.1,\n",
       "   'clf__n_estimators': 200},\n",
       "  {'clf': GradientBoostingRegressor(random_state=42),\n",
       "   'clf__learning_rate': 1,\n",
       "   'clf__n_estimators': 50},\n",
       "  {'clf': GradientBoostingRegressor(random_state=42),\n",
       "   'clf__learning_rate': 1,\n",
       "   'clf__n_estimators': 100},\n",
       "  {'clf': GradientBoostingRegressor(random_state=42),\n",
       "   'clf__learning_rate': 1,\n",
       "   'clf__n_estimators': 200}],\n",
       " 'split0_test_score': array([-0.13275557, -0.13275442, -0.13274299, -0.13263256, -0.13452931,\n",
       "        -0.13421691, -0.13336832, -0.18967726, -0.18663292, -0.18130185,\n",
       "        -0.1694535 , -0.15661454, -0.14296838, -0.13091121, -0.12841972,\n",
       "        -0.12919572, -0.18925915, -0.21388579, -0.23555572]),\n",
       " 'split1_test_score': array([-0.12491037, -0.12490968, -0.12490281, -0.12483741, -0.12645893,\n",
       "        -0.12603677, -0.12623964, -0.18437953, -0.1814029 , -0.17604019,\n",
       "        -0.16357829, -0.15052969, -0.13757528, -0.12687062, -0.12527008,\n",
       "        -0.1257171 , -0.18633776, -0.21408511, -0.23987858]),\n",
       " 'split2_test_score': array([-0.13034469, -0.13034326, -0.13032898, -0.13019058, -0.13176508,\n",
       "        -0.13135141, -0.13124177, -0.18347031, -0.18070435, -0.17582342,\n",
       "        -0.16463246, -0.15291759, -0.14079329, -0.12955612, -0.1273679 ,\n",
       "        -0.12685095, -0.18280301, -0.21000327, -0.23201911]),\n",
       " 'mean_test_score': array([-0.12933688, -0.12933579, -0.12932493, -0.12922018, -0.13091778,\n",
       "        -0.13053503, -0.13028324, -0.18584237, -0.18291339, -0.17772182,\n",
       "        -0.16588808, -0.15335394, -0.14044565, -0.12911265, -0.12701923,\n",
       "        -0.12725459, -0.1861333 , -0.21265806, -0.2358178 ]),\n",
       " 'std_test_score': array([0.00328111, 0.00328088, 0.00327853, 0.00325549, 0.00334875,\n",
       "        0.00338905, 0.00298815, 0.00273697, 0.00264552, 0.00253301,\n",
       "        0.0025576 , 0.00250322, 0.00221541, 0.0016791 , 0.00130926,\n",
       "        0.00144854, 0.00263967, 0.00187898, 0.00321396]),\n",
       " 'rank_test_score': array([ 7,  6,  5,  4, 10,  9,  8, 16, 15, 14, 13, 12, 11,  3,  1,  2, 17,\n",
       "        18, 19], dtype=int32)}"
      ]
     },
     "execution_count": 21,
     "metadata": {},
     "output_type": "execute_result"
    }
   ],
   "source": [
    "gs.cv_results_"
   ]
  },
  {
   "cell_type": "markdown",
   "metadata": {},
   "source": [
    "Saving"
   ]
  },
  {
   "cell_type": "code",
   "execution_count": 22,
   "metadata": {},
   "outputs": [],
   "source": [
    "df = pd.concat([pd.DataFrame(gs.cv_results_[\"params\"]),pd.DataFrame(gs.cv_results_[\"mean_test_score\"], columns=[\"mse\"])],axis=1)\n",
    "df['mse'] = -df['mse'] \n",
    "df['clf'] = df['clf'].apply(lambda x: x.__class__)"
   ]
  },
  {
   "cell_type": "code",
   "execution_count": 23,
   "metadata": {},
   "outputs": [],
   "source": [
    "# save tuning results\n",
    "df.to_csv('gs_cv_results.csv')"
   ]
  },
  {
   "cell_type": "code",
   "execution_count": 24,
   "metadata": {},
   "outputs": [
    {
     "data": {
      "text/html": [
       "<div>\n",
       "<style scoped>\n",
       "    .dataframe tbody tr th:only-of-type {\n",
       "        vertical-align: middle;\n",
       "    }\n",
       "\n",
       "    .dataframe tbody tr th {\n",
       "        vertical-align: top;\n",
       "    }\n",
       "\n",
       "    .dataframe thead th {\n",
       "        text-align: right;\n",
       "    }\n",
       "</style>\n",
       "<table border=\"1\" class=\"dataframe\">\n",
       "  <thead>\n",
       "    <tr style=\"text-align: right;\">\n",
       "      <th></th>\n",
       "      <th>clf</th>\n",
       "      <th>clf__alpha</th>\n",
       "      <th>clf__n_estimators</th>\n",
       "      <th>clf__learning_rate</th>\n",
       "      <th>mse</th>\n",
       "    </tr>\n",
       "  </thead>\n",
       "  <tbody>\n",
       "    <tr>\n",
       "      <th>0</th>\n",
       "      <td>&lt;class 'sklearn.linear_model._ridge.Ridge'&gt;</td>\n",
       "      <td>0.001</td>\n",
       "      <td>NaN</td>\n",
       "      <td>NaN</td>\n",
       "      <td>0.129337</td>\n",
       "    </tr>\n",
       "    <tr>\n",
       "      <th>1</th>\n",
       "      <td>&lt;class 'sklearn.linear_model._ridge.Ridge'&gt;</td>\n",
       "      <td>0.010</td>\n",
       "      <td>NaN</td>\n",
       "      <td>NaN</td>\n",
       "      <td>0.129336</td>\n",
       "    </tr>\n",
       "    <tr>\n",
       "      <th>2</th>\n",
       "      <td>&lt;class 'sklearn.linear_model._ridge.Ridge'&gt;</td>\n",
       "      <td>0.100</td>\n",
       "      <td>NaN</td>\n",
       "      <td>NaN</td>\n",
       "      <td>0.129325</td>\n",
       "    </tr>\n",
       "    <tr>\n",
       "      <th>3</th>\n",
       "      <td>&lt;class 'sklearn.linear_model._ridge.Ridge'&gt;</td>\n",
       "      <td>1.000</td>\n",
       "      <td>NaN</td>\n",
       "      <td>NaN</td>\n",
       "      <td>0.129220</td>\n",
       "    </tr>\n",
       "    <tr>\n",
       "      <th>4</th>\n",
       "      <td>&lt;class 'sklearn.ensemble._forest.RandomForestR...</td>\n",
       "      <td>NaN</td>\n",
       "      <td>100.0</td>\n",
       "      <td>NaN</td>\n",
       "      <td>0.130918</td>\n",
       "    </tr>\n",
       "    <tr>\n",
       "      <th>5</th>\n",
       "      <td>&lt;class 'sklearn.ensemble._forest.RandomForestR...</td>\n",
       "      <td>NaN</td>\n",
       "      <td>200.0</td>\n",
       "      <td>NaN</td>\n",
       "      <td>0.130535</td>\n",
       "    </tr>\n",
       "    <tr>\n",
       "      <th>6</th>\n",
       "      <td>&lt;class 'sklearn.ensemble._forest.RandomForestR...</td>\n",
       "      <td>NaN</td>\n",
       "      <td>500.0</td>\n",
       "      <td>NaN</td>\n",
       "      <td>0.130283</td>\n",
       "    </tr>\n",
       "    <tr>\n",
       "      <th>7</th>\n",
       "      <td>&lt;class 'sklearn.ensemble._gb.GradientBoostingR...</td>\n",
       "      <td>NaN</td>\n",
       "      <td>50.0</td>\n",
       "      <td>0.001</td>\n",
       "      <td>0.185842</td>\n",
       "    </tr>\n",
       "    <tr>\n",
       "      <th>8</th>\n",
       "      <td>&lt;class 'sklearn.ensemble._gb.GradientBoostingR...</td>\n",
       "      <td>NaN</td>\n",
       "      <td>100.0</td>\n",
       "      <td>0.001</td>\n",
       "      <td>0.182913</td>\n",
       "    </tr>\n",
       "    <tr>\n",
       "      <th>9</th>\n",
       "      <td>&lt;class 'sklearn.ensemble._gb.GradientBoostingR...</td>\n",
       "      <td>NaN</td>\n",
       "      <td>200.0</td>\n",
       "      <td>0.001</td>\n",
       "      <td>0.177722</td>\n",
       "    </tr>\n",
       "    <tr>\n",
       "      <th>10</th>\n",
       "      <td>&lt;class 'sklearn.ensemble._gb.GradientBoostingR...</td>\n",
       "      <td>NaN</td>\n",
       "      <td>50.0</td>\n",
       "      <td>0.010</td>\n",
       "      <td>0.165888</td>\n",
       "    </tr>\n",
       "    <tr>\n",
       "      <th>11</th>\n",
       "      <td>&lt;class 'sklearn.ensemble._gb.GradientBoostingR...</td>\n",
       "      <td>NaN</td>\n",
       "      <td>100.0</td>\n",
       "      <td>0.010</td>\n",
       "      <td>0.153354</td>\n",
       "    </tr>\n",
       "    <tr>\n",
       "      <th>12</th>\n",
       "      <td>&lt;class 'sklearn.ensemble._gb.GradientBoostingR...</td>\n",
       "      <td>NaN</td>\n",
       "      <td>200.0</td>\n",
       "      <td>0.010</td>\n",
       "      <td>0.140446</td>\n",
       "    </tr>\n",
       "    <tr>\n",
       "      <th>13</th>\n",
       "      <td>&lt;class 'sklearn.ensemble._gb.GradientBoostingR...</td>\n",
       "      <td>NaN</td>\n",
       "      <td>50.0</td>\n",
       "      <td>0.100</td>\n",
       "      <td>0.129113</td>\n",
       "    </tr>\n",
       "    <tr>\n",
       "      <th>14</th>\n",
       "      <td>&lt;class 'sklearn.ensemble._gb.GradientBoostingR...</td>\n",
       "      <td>NaN</td>\n",
       "      <td>100.0</td>\n",
       "      <td>0.100</td>\n",
       "      <td>0.127019</td>\n",
       "    </tr>\n",
       "    <tr>\n",
       "      <th>15</th>\n",
       "      <td>&lt;class 'sklearn.ensemble._gb.GradientBoostingR...</td>\n",
       "      <td>NaN</td>\n",
       "      <td>200.0</td>\n",
       "      <td>0.100</td>\n",
       "      <td>0.127255</td>\n",
       "    </tr>\n",
       "    <tr>\n",
       "      <th>16</th>\n",
       "      <td>&lt;class 'sklearn.ensemble._gb.GradientBoostingR...</td>\n",
       "      <td>NaN</td>\n",
       "      <td>50.0</td>\n",
       "      <td>1.000</td>\n",
       "      <td>0.186133</td>\n",
       "    </tr>\n",
       "    <tr>\n",
       "      <th>17</th>\n",
       "      <td>&lt;class 'sklearn.ensemble._gb.GradientBoostingR...</td>\n",
       "      <td>NaN</td>\n",
       "      <td>100.0</td>\n",
       "      <td>1.000</td>\n",
       "      <td>0.212658</td>\n",
       "    </tr>\n",
       "    <tr>\n",
       "      <th>18</th>\n",
       "      <td>&lt;class 'sklearn.ensemble._gb.GradientBoostingR...</td>\n",
       "      <td>NaN</td>\n",
       "      <td>200.0</td>\n",
       "      <td>1.000</td>\n",
       "      <td>0.235818</td>\n",
       "    </tr>\n",
       "  </tbody>\n",
       "</table>\n",
       "</div>"
      ],
      "text/plain": [
       "                                                  clf  clf__alpha  \\\n",
       "0         <class 'sklearn.linear_model._ridge.Ridge'>       0.001   \n",
       "1         <class 'sklearn.linear_model._ridge.Ridge'>       0.010   \n",
       "2         <class 'sklearn.linear_model._ridge.Ridge'>       0.100   \n",
       "3         <class 'sklearn.linear_model._ridge.Ridge'>       1.000   \n",
       "4   <class 'sklearn.ensemble._forest.RandomForestR...         NaN   \n",
       "5   <class 'sklearn.ensemble._forest.RandomForestR...         NaN   \n",
       "6   <class 'sklearn.ensemble._forest.RandomForestR...         NaN   \n",
       "7   <class 'sklearn.ensemble._gb.GradientBoostingR...         NaN   \n",
       "8   <class 'sklearn.ensemble._gb.GradientBoostingR...         NaN   \n",
       "9   <class 'sklearn.ensemble._gb.GradientBoostingR...         NaN   \n",
       "10  <class 'sklearn.ensemble._gb.GradientBoostingR...         NaN   \n",
       "11  <class 'sklearn.ensemble._gb.GradientBoostingR...         NaN   \n",
       "12  <class 'sklearn.ensemble._gb.GradientBoostingR...         NaN   \n",
       "13  <class 'sklearn.ensemble._gb.GradientBoostingR...         NaN   \n",
       "14  <class 'sklearn.ensemble._gb.GradientBoostingR...         NaN   \n",
       "15  <class 'sklearn.ensemble._gb.GradientBoostingR...         NaN   \n",
       "16  <class 'sklearn.ensemble._gb.GradientBoostingR...         NaN   \n",
       "17  <class 'sklearn.ensemble._gb.GradientBoostingR...         NaN   \n",
       "18  <class 'sklearn.ensemble._gb.GradientBoostingR...         NaN   \n",
       "\n",
       "    clf__n_estimators  clf__learning_rate       mse  \n",
       "0                 NaN                 NaN  0.129337  \n",
       "1                 NaN                 NaN  0.129336  \n",
       "2                 NaN                 NaN  0.129325  \n",
       "3                 NaN                 NaN  0.129220  \n",
       "4               100.0                 NaN  0.130918  \n",
       "5               200.0                 NaN  0.130535  \n",
       "6               500.0                 NaN  0.130283  \n",
       "7                50.0               0.001  0.185842  \n",
       "8               100.0               0.001  0.182913  \n",
       "9               200.0               0.001  0.177722  \n",
       "10               50.0               0.010  0.165888  \n",
       "11              100.0               0.010  0.153354  \n",
       "12              200.0               0.010  0.140446  \n",
       "13               50.0               0.100  0.129113  \n",
       "14              100.0               0.100  0.127019  \n",
       "15              200.0               0.100  0.127255  \n",
       "16               50.0               1.000  0.186133  \n",
       "17              100.0               1.000  0.212658  \n",
       "18              200.0               1.000  0.235818  "
      ]
     },
     "execution_count": 24,
     "metadata": {},
     "output_type": "execute_result"
    }
   ],
   "source": [
    "df"
   ]
  }
 ],
 "metadata": {
  "kernelspec": {
   "display_name": "my_env",
   "language": "python",
   "name": "my_env"
  },
  "language_info": {
   "codemirror_mode": {
    "name": "ipython",
    "version": 3
   },
   "file_extension": ".py",
   "mimetype": "text/x-python",
   "name": "python",
   "nbconvert_exporter": "python",
   "pygments_lexer": "ipython3",
   "version": "3.9.7"
  }
 },
 "nbformat": 4,
 "nbformat_minor": 4
}
